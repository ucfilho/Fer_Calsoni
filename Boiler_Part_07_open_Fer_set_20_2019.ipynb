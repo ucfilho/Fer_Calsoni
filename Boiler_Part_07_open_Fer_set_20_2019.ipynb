{
  "nbformat": 4,
  "nbformat_minor": 0,
  "metadata": {
    "colab": {
      "name": "Boiler_Part_07_open_Fer_set_20_2019.ipynb",
      "provenance": [],
      "collapsed_sections": [],
      "include_colab_link": true
    },
    "kernelspec": {
      "name": "python3",
      "display_name": "Python 3"
    }
  },
  "cells": [
    {
      "cell_type": "markdown",
      "metadata": {
        "id": "view-in-github",
        "colab_type": "text"
      },
      "source": [
        "<a href=\"https://colab.research.google.com/github/ucfilho/Fer_Calsoni/blob/master/Boiler_Part_07_open_Fer_set_20_2019.ipynb\" target=\"_parent\"><img src=\"https://colab.research.google.com/assets/colab-badge.svg\" alt=\"Open In Colab\"/></a>"
      ]
    },
    {
      "cell_type": "code",
      "metadata": {
        "id": "ozzGc2j9Hze5",
        "colab_type": "code",
        "colab": {}
      },
      "source": [
        "# carrega as bibliotecas do python"
      ],
      "execution_count": 0,
      "outputs": []
    },
    {
      "cell_type": "code",
      "metadata": {
        "id": "-XtMfpzzHuUc",
        "colab_type": "code",
        "colab": {}
      },
      "source": [
        "%matplotlib inline\n",
        "from matplotlib import pyplot as plt\n",
        "import os\n",
        "from pandas import read_excel\n",
        "import numpy as np\n",
        "from sklearn.decomposition import PCA\n",
        "import statistics as st\n",
        "import pandas as pd\n",
        " "
      ],
      "execution_count": 0,
      "outputs": []
    },
    {
      "cell_type": "code",
      "metadata": {
        "id": "7E_RqB3xH5vB",
        "colab_type": "code",
        "colab": {}
      },
      "source": [
        "# carrega o arquivo de nome Fernando_Caldeira_1_maio_10_2019.xlsx (tem q usar este nome)"
      ],
      "execution_count": 0,
      "outputs": []
    },
    {
      "cell_type": "code",
      "metadata": {
        "id": "ILm0kpJEHxy_",
        "colab_type": "code",
        "outputId": "0fb10abf-4134-424b-9a4d-74065ef9aa88",
        "colab": {
          "resources": {
            "http://localhost:8080/nbextensions/google.colab/files.js": {
              "data": "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",
              "ok": true,
              "headers": [
                [
                  "content-type",
                  "application/javascript"
                ]
              ],
              "status": 200,
              "status_text": ""
            }
          },
          "base_uri": "https://localhost:8080/",
          "height": 74
        }
      },
      "source": [
        "from google.colab import files\n",
        "def getLocalFiles():\n",
        "    _files = files.upload()\n",
        "    if len(_files) >0:\n",
        "       for k,v in _files.items():\n",
        "         open(k,'wb').write(v)\n",
        "getLocalFiles()"
      ],
      "execution_count": 40,
      "outputs": [
        {
          "output_type": "display_data",
          "data": {
            "text/html": [
              "\n",
              "     <input type=\"file\" id=\"files-7c4ed43c-8633-49ed-a6eb-6fa4e02c5b2a\" name=\"files[]\" multiple disabled />\n",
              "     <output id=\"result-7c4ed43c-8633-49ed-a6eb-6fa4e02c5b2a\">\n",
              "      Upload widget is only available when the cell has been executed in the\n",
              "      current browser session. Please rerun this cell to enable.\n",
              "      </output>\n",
              "      <script src=\"/nbextensions/google.colab/files.js\"></script> "
            ],
            "text/plain": [
              "<IPython.core.display.HTML object>"
            ]
          },
          "metadata": {
            "tags": []
          }
        },
        {
          "output_type": "stream",
          "text": [
            "Saving Fernando_Caldeira_1_maio_10_2019.xlsx to Fernando_Caldeira_1_maio_10_2019 (1).xlsx\n"
          ],
          "name": "stdout"
        }
      ]
    },
    {
      "cell_type": "code",
      "metadata": {
        "id": "5SrgAsh_L-5w",
        "colab_type": "code",
        "colab": {}
      },
      "source": [
        ""
      ],
      "execution_count": 0,
      "outputs": []
    },
    {
      "cell_type": "code",
      "metadata": {
        "id": "7j2sx9ghIECu",
        "colab_type": "code",
        "colab": {}
      },
      "source": [
        "# leitura dos dados "
      ],
      "execution_count": 0,
      "outputs": []
    },
    {
      "cell_type": "code",
      "metadata": {
        "id": "Sjcs6T_OIKKr",
        "colab_type": "code",
        "colab": {
          "base_uri": "https://localhost:8080/",
          "height": 122
        },
        "outputId": "99a85525-9e3c-4481-b70d-f1d365cd687d"
      },
      "source": [
        "# find your sheet name at the bottom left of your excel file and assign \n",
        "# it to sheet_name\n",
        "my_sheet = 'Planilha1'\n",
        "file_name = 'Fernando_Caldeira_1_maio_10_2019.xlsx' # name of your excel file\n",
        "df = read_excel(file_name, sheet_name = my_sheet)\n",
        "print(df.head(3)) # shows headers with top 5 rows"
      ],
      "execution_count": 42,
      "outputs": [
        {
          "output_type": "stream",
          "text": [
            "        Data      TC  Patm\\n  Vaz_Vap  ...  Cinzas  PCI_Cinzas  Temp_Desc  TC_Gases\n",
            "0 2017-12-01  505.19   67.88    71.66  ...   94.04       791.0      110.0    194.97\n",
            "1 2017-12-02  503.29   68.03    66.34  ...   92.92       747.0      110.0    194.00\n",
            "2 2017-12-03  512.39   68.00    79.83  ...   92.26       793.0      110.0    194.00\n",
            "\n",
            "[3 rows x 19 columns]\n"
          ],
          "name": "stdout"
        }
      ]
    },
    {
      "cell_type": "code",
      "metadata": {
        "id": "TamprUywIfuh",
        "colab_type": "code",
        "colab": {}
      },
      "source": [
        "# Une as colunas que fara um estudo"
      ],
      "execution_count": 0,
      "outputs": []
    },
    {
      "cell_type": "code",
      "metadata": {
        "id": "N-XKU-g0J5s6",
        "colab_type": "code",
        "colab": {
          "base_uri": "https://localhost:8080/",
          "height": 122
        },
        "outputId": "5a49c0d0-2eef-47e0-88e6-03db6d36527a"
      },
      "source": [
        "X=df.drop(['Data'], axis=1)\n",
        "print(X.head(3)) # shows headers with top 5 rows"
      ],
      "execution_count": 44,
      "outputs": [
        {
          "output_type": "stream",
          "text": [
            "       TC  Patm\\n  Vaz_Vap  Vaz_agua  ...  Cinzas  PCI_Cinzas  Temp_Desc  TC_Gases\n",
            "0  505.19   67.88    71.66     75.45  ...   94.04       791.0      110.0    194.97\n",
            "1  503.29   68.03    66.34     69.80  ...   92.92       747.0      110.0    194.00\n",
            "2  512.39   68.00    79.83     83.14  ...   92.26       793.0      110.0    194.00\n",
            "\n",
            "[3 rows x 18 columns]\n"
          ],
          "name": "stdout"
        }
      ]
    },
    {
      "cell_type": "code",
      "metadata": {
        "id": "MU9TRygjLM2f",
        "colab_type": "code",
        "colab": {}
      },
      "source": [
        "# Busca de dados sujos"
      ],
      "execution_count": 0,
      "outputs": []
    },
    {
      "cell_type": "code",
      "metadata": {
        "id": "_m5_rlVsLINP",
        "colab_type": "code",
        "colab": {
          "base_uri": "https://localhost:8080/",
          "height": 351
        },
        "outputId": "603dabf6-8e26-4166-ae1d-3b3fcd4e944e"
      },
      "source": [
        "print(X.isnull().any())"
      ],
      "execution_count": 46,
      "outputs": [
        {
          "output_type": "stream",
          "text": [
            "TC               True\n",
            "Patm\\n           True\n",
            "Vaz_Vap          True\n",
            "Vaz_agua         True\n",
            "Agua_Vapor       True\n",
            "Perc_Descarga    True\n",
            "Pressao_01\\n     True\n",
            "Pressao_02\\n     True\n",
            "Perc_Abertura    True\n",
            "TC_Fornalha      True\n",
            "Oxigenio         True\n",
            "H20_Biom         True\n",
            "PCI_Biomas       True\n",
            "Escesso_Ar       True\n",
            "Cinzas           True\n",
            "PCI_Cinzas       True\n",
            "Temp_Desc        True\n",
            "TC_Gases         True\n",
            "dtype: bool\n"
          ],
          "name": "stdout"
        }
      ]
    },
    {
      "cell_type": "code",
      "metadata": {
        "id": "YH_lva23OEFv",
        "colab_type": "code",
        "colab": {}
      },
      "source": [
        "# Limpeza dos dados"
      ],
      "execution_count": 0,
      "outputs": []
    },
    {
      "cell_type": "code",
      "metadata": {
        "id": "jEwJAc2oMBVd",
        "colab_type": "code",
        "colab": {}
      },
      "source": [
        "X=X.dropna()\n",
        "#print(X.isnull().any())"
      ],
      "execution_count": 0,
      "outputs": []
    },
    {
      "cell_type": "code",
      "metadata": {
        "id": "XP3jSG41Neey",
        "colab_type": "code",
        "colab": {
          "base_uri": "https://localhost:8080/",
          "height": 54
        },
        "outputId": "ac31337d-277a-4579-b06b-ac1ae48810b0"
      },
      "source": [
        "\n",
        "'''\n",
        "ENTRADA\n",
        "H20_Biom         True\n",
        "PCI_Biomas       True\n",
        "Escesso_Ar       True\n",
        "Vaz_agua         True\n",
        "Temp_Desc        True\n",
        "\n",
        "SAIDA:\n",
        "TC               True\n",
        "Patm\\n           True\n",
        "Vaz_Vap          True\n",
        "Agua_Vapor       True\n",
        "Perc_Descarga    True\n",
        "Pressao_01\\n     True\n",
        "Pressao_02\\n     True\n",
        "Perc_Abertura    True\n",
        "TC_Fornalha      True\n",
        "PCI_Cinzas       True\n",
        "TC_Gases         True\n",
        "Cinzas           True\n",
        "Oxigenio         True\n",
        "'''\n",
        "\n"
      ],
      "execution_count": 49,
      "outputs": [
        {
          "output_type": "execute_result",
          "data": {
            "text/plain": [
              "'\\nENTRADA\\nH20_Biom         True\\nPCI_Biomas       True\\nEscesso_Ar       True\\nVaz_agua         True\\nTemp_Desc        True\\n\\nSAIDA:\\nTC               True\\nPatm\\n           True\\nVaz_Vap          True\\nAgua_Vapor       True\\nPerc_Descarga    True\\nPressao_01\\n     True\\nPressao_02\\n     True\\nPerc_Abertura    True\\nTC_Fornalha      True\\nPCI_Cinzas       True\\nTC_Gases         True\\nCinzas           True\\nOxigenio         True\\n'"
            ]
          },
          "metadata": {
            "tags": []
          },
          "execution_count": 49
        }
      ]
    },
    {
      "cell_type": "code",
      "metadata": {
        "id": "nP1wq-mx-qhg",
        "colab_type": "code",
        "colab": {}
      },
      "source": [
        "Vapor=[]\n",
        "Vapor=np.copy(X['Vaz_Vap'])\n",
        "Vapor=pd.DataFrame({'Vaz_Vap':Vapor})\n",
        "#print(Vapor)"
      ],
      "execution_count": 0,
      "outputs": []
    },
    {
      "cell_type": "code",
      "metadata": {
        "id": "DKYJuqKk_ZUU",
        "colab_type": "code",
        "colab": {}
      },
      "source": [
        "#print(X.head())"
      ],
      "execution_count": 0,
      "outputs": []
    },
    {
      "cell_type": "code",
      "metadata": {
        "id": "wRsLJzwFASTn",
        "colab_type": "code",
        "colab": {}
      },
      "source": [
        "#sortedPoints = sorted(Vapor)\n",
        "#mid = len(sortedPoints)\n",
        "#print(mid)\n"
      ],
      "execution_count": 0,
      "outputs": []
    },
    {
      "cell_type": "code",
      "metadata": {
        "id": "Ogg8j-lNEbfy",
        "colab_type": "code",
        "colab": {
          "base_uri": "https://localhost:8080/",
          "height": 175
        },
        "outputId": "eea82faa-b67a-4d70-a083-3c9f28255da3"
      },
      "source": [
        "print(Vapor.describe())"
      ],
      "execution_count": 52,
      "outputs": [
        {
          "output_type": "stream",
          "text": [
            "         Vaz_Vap\n",
            "count  31.000000\n",
            "mean   70.799032\n",
            "std     5.839929\n",
            "min    60.830000\n",
            "25%    67.745000\n",
            "50%    71.160000\n",
            "75%    73.035000\n",
            "max    86.330000\n"
          ],
          "name": "stdout"
        }
      ]
    },
    {
      "cell_type": "code",
      "metadata": {
        "id": "d7KoVcUwErmC",
        "colab_type": "code",
        "colab": {}
      },
      "source": [
        "Num=len(Vapor)\n",
        "Vapor_x=np.copy(Vapor)\n",
        "for i in range(Num):\n",
        "  if(Vapor_x[i]<67.75):\n",
        "    Vapor_x[i]=1 # Vapor=1 é baixo\n",
        "  else:\n",
        "    if(Vapor_x[i]>73.03):\n",
        "      Vapor_x[i]=3 # Vapor=3 é alto\n",
        "    else:\n",
        "      Vapor_x[i]=2 # Vapor=1 é médio\n",
        "#Vapor_x=np.array(Vapor_x)\n",
        "#print(Vapor_x)\n",
        "#print(X['Vaz_Vap'])"
      ],
      "execution_count": 0,
      "outputs": []
    },
    {
      "cell_type": "code",
      "metadata": {
        "id": "fSXFh7jpKppr",
        "colab_type": "code",
        "colab": {
          "base_uri": "https://localhost:8080/",
          "height": 580
        },
        "outputId": "17a57a5f-de7a-4429-a595-4ccab83e360f"
      },
      "source": [
        "Nomes=['H20_Biom','PCI_Biomas','Escesso_Ar','Vaz_agua','Temp_Desc']\n",
        "x=X[Nomes]\n",
        "print(x)\n",
        "\n",
        "y = Vapor_x"
      ],
      "execution_count": 54,
      "outputs": [
        {
          "output_type": "stream",
          "text": [
            "    H20_Biom  PCI_Biomas  Escesso_Ar  Vaz_agua  Temp_Desc\n",
            "0     30.350      3060.0       24.63     75.45      110.0\n",
            "1     35.320      2905.0       30.03     69.80      110.0\n",
            "2     34.460      2932.0       27.04     83.14      110.0\n",
            "3     35.260      2907.0       28.76     89.18      110.0\n",
            "4     43.200      2658.0       31.25     87.13      110.0\n",
            "5     42.945      3192.0       30.19     71.57      110.0\n",
            "6     35.400      2902.0       25.90     68.98      110.0\n",
            "7     33.270      2970.0       26.74     63.12      110.0\n",
            "8     29.880      3075.0       31.25     71.09      110.0\n",
            "9     33.660      2957.0       32.08     71.08      110.0\n",
            "10    35.740      2892.0       29.63     71.36      110.0\n",
            "11    37.420      2667.0       31.25     77.83      110.0\n",
            "12    39.380      2800.0       32.92     74.96      110.0\n",
            "13    36.620      2864.0       30.03     63.08      110.0\n",
            "14    38.800      2777.0       33.16     68.52      110.0\n",
            "15    37.140      2848.0       29.39     76.33      110.0\n",
            "16    38.460      3022.0       32.58     77.10      110.0\n",
            "17    43.960      2484.0       32.91     73.43      110.0\n",
            "18    37.560      3129.0       32.80     75.38      110.0\n",
            "19    37.200      3040.0       32.33     63.11      110.0\n",
            "20    35.020      3107.0       31.50     73.77      110.0\n",
            "21    35.540      2962.0       33.76     74.87      110.0\n",
            "22    40.400      2571.0       28.83     74.66      110.0\n",
            "23    33.320      2967.0       32.08     74.55      110.0\n",
            "24    29.340      3092.0       30.43     72.79      110.0\n",
            "25    25.520      3010.0       32.91     70.80      110.0\n",
            "26    30.340      3060.0       33.76     73.25      110.0\n",
            "27    38.480      2806.0       32.49     72.92      110.0\n",
            "28    39.100      2787.0       40.00     68.12      110.0\n",
            "29    37.340      2842.0       33.76     68.18      110.0\n",
            "30    42.420      2683.0       28.83     71.50      110.0\n"
          ],
          "name": "stdout"
        }
      ]
    },
    {
      "cell_type": "code",
      "metadata": {
        "id": "bwrVtMD9L1XQ",
        "colab_type": "code",
        "colab": {
          "base_uri": "https://localhost:8080/",
          "height": 386
        },
        "outputId": "20314cdc-7cff-4bc5-f6e2-4187df03a5bc"
      },
      "source": [
        "# plot feature importance using built-in function\n",
        "from numpy import loadtxt\n",
        "from xgboost import XGBClassifier\n",
        "from xgboost import plot_importance\n",
        "from matplotlib import pyplot\n",
        "\n",
        "\n",
        "# fit model no training data\n",
        "model = XGBClassifier()\n",
        "model.fit(x, y)\n",
        "# plot feature importance\n",
        "plot_importance(model)\n",
        "pyplot.show()"
      ],
      "execution_count": 55,
      "outputs": [
        {
          "output_type": "stream",
          "text": [
            "/usr/local/lib/python3.6/dist-packages/sklearn/preprocessing/label.py:219: DataConversionWarning: A column-vector y was passed when a 1d array was expected. Please change the shape of y to (n_samples, ), for example using ravel().\n",
            "  y = column_or_1d(y, warn=True)\n",
            "/usr/local/lib/python3.6/dist-packages/sklearn/preprocessing/label.py:252: DataConversionWarning: A column-vector y was passed when a 1d array was expected. Please change the shape of y to (n_samples, ), for example using ravel().\n",
            "  y = column_or_1d(y, warn=True)\n"
          ],
          "name": "stderr"
        },
        {
          "output_type": "display_data",
          "data": {
            "image/png": "[encoded data removed]",
            "text/plain": [
              "<Figure size 432x288 with 1 Axes>"
            ]
          },
          "metadata": {
            "tags": []
          }
        }
      ]
    },
    {
      "cell_type": "code",
      "metadata": {
        "id": "WNQFTE1cNbzV",
        "colab_type": "code",
        "colab": {}
      },
      "source": [
        "TC_Fornalha=[]\n",
        "TC_Fornalha=np.copy(X['TC_Fornalha'])\n",
        "TC_Fornalha=pd.DataFrame({'TC_Fornalha':TC_Fornalha})\n",
        "#print(TC_Fornalha)"
      ],
      "execution_count": 0,
      "outputs": []
    },
    {
      "cell_type": "code",
      "metadata": {
        "id": "Ue-ykrGQOOo2",
        "colab_type": "code",
        "colab": {
          "base_uri": "https://localhost:8080/",
          "height": 175
        },
        "outputId": "e9c86e85-84e2-4862-fd4b-4b9607155159"
      },
      "source": [
        "print(TC_Fornalha.describe())"
      ],
      "execution_count": 57,
      "outputs": [
        {
          "output_type": "stream",
          "text": [
            "       TC_Fornalha\n",
            "count    31.000000\n",
            "mean    738.951935\n",
            "std      37.789074\n",
            "min     670.120000\n",
            "25%     720.185000\n",
            "50%     741.290000\n",
            "75%     768.625000\n",
            "max     812.730000\n"
          ],
          "name": "stdout"
        }
      ]
    },
    {
      "cell_type": "code",
      "metadata": {
        "id": "ybojYoGDOlb2",
        "colab_type": "code",
        "colab": {}
      },
      "source": [
        "Num=len(TC_Fornalha)\n",
        "TC_Fornalha_x=np.copy(TC_Fornalha)\n",
        "for i in range(Num):\n",
        "  if(TC_Fornalha_x[i]<720.18):\n",
        "    TC_Fornalha_x[i]=1 # TC_Fornalha=1 é baixo\n",
        "  else:\n",
        "    if(TC_Fornalha_x[i]>768.62):\n",
        "      TC_Fornalha_x[i]=3 # TC_Fornalha=3 é alto\n",
        "    else:\n",
        "      TC_Fornalha_x[i]=2 # TC_Fornalha=1 é médio"
      ],
      "execution_count": 0,
      "outputs": []
    },
    {
      "cell_type": "code",
      "metadata": {
        "id": "Upw_zZbXPFFC",
        "colab_type": "code",
        "colab": {
          "base_uri": "https://localhost:8080/",
          "height": 1000
        },
        "outputId": "f4834b51-ccd9-4180-fb58-609974698c85"
      },
      "source": [
        "print(TC_Fornalha)\n",
        "print(TC_Fornalha_x)"
      ],
      "execution_count": 59,
      "outputs": [
        {
          "output_type": "stream",
          "text": [
            "    TC_Fornalha\n",
            "0        730.92\n",
            "1        730.86\n",
            "2        730.99\n",
            "3        783.20\n",
            "4        730.74\n",
            "5        741.29\n",
            "6        696.92\n",
            "7        670.12\n",
            "8        694.93\n",
            "9        686.89\n",
            "10       694.24\n",
            "11       771.72\n",
            "12       812.73\n",
            "13       670.12\n",
            "14       756.73\n",
            "15       791.56\n",
            "16       765.53\n",
            "17       779.48\n",
            "18       777.62\n",
            "19       670.12\n",
            "20       736.68\n",
            "21       739.04\n",
            "22       741.91\n",
            "23       779.80\n",
            "24       761.22\n",
            "25       746.79\n",
            "26       755.39\n",
            "27       745.96\n",
            "28       713.98\n",
            "29       726.39\n",
            "30       773.64\n",
            "[[2.]\n",
            " [2.]\n",
            " [2.]\n",
            " [3.]\n",
            " [2.]\n",
            " [2.]\n",
            " [1.]\n",
            " [1.]\n",
            " [1.]\n",
            " [1.]\n",
            " [1.]\n",
            " [3.]\n",
            " [3.]\n",
            " [1.]\n",
            " [2.]\n",
            " [3.]\n",
            " [2.]\n",
            " [3.]\n",
            " [3.]\n",
            " [1.]\n",
            " [2.]\n",
            " [2.]\n",
            " [2.]\n",
            " [3.]\n",
            " [2.]\n",
            " [2.]\n",
            " [2.]\n",
            " [2.]\n",
            " [1.]\n",
            " [2.]\n",
            " [3.]]\n"
          ],
          "name": "stdout"
        }
      ]
    },
    {
      "cell_type": "code",
      "metadata": {
        "id": "rJwKh3N8P1xI",
        "colab_type": "code",
        "colab": {}
      },
      "source": [
        "y = TC_Fornalha_x"
      ],
      "execution_count": 0,
      "outputs": []
    },
    {
      "cell_type": "code",
      "metadata": {
        "id": "224JQxTFQCoY",
        "colab_type": "code",
        "colab": {
          "base_uri": "https://localhost:8080/",
          "height": 386
        },
        "outputId": "b1e19ac5-124d-45fb-c0ec-76b604559ec8"
      },
      "source": [
        "# fit model no training data\n",
        "model = XGBClassifier()\n",
        "model.fit(x, y)\n",
        "# plot feature importance\n",
        "plot_importance(model)\n",
        "pyplot.show()"
      ],
      "execution_count": 61,
      "outputs": [
        {
          "output_type": "stream",
          "text": [
            "/usr/local/lib/python3.6/dist-packages/sklearn/preprocessing/label.py:219: DataConversionWarning: A column-vector y was passed when a 1d array was expected. Please change the shape of y to (n_samples, ), for example using ravel().\n",
            "  y = column_or_1d(y, warn=True)\n",
            "/usr/local/lib/python3.6/dist-packages/sklearn/preprocessing/label.py:252: DataConversionWarning: A column-vector y was passed when a 1d array was expected. Please change the shape of y to (n_samples, ), for example using ravel().\n",
            "  y = column_or_1d(y, warn=True)\n"
          ],
          "name": "stderr"
        },
        {
          "output_type": "display_data",
          "data": {
            "image/png": "[encoded data removed]",
            "text/plain": [
              "<Figure size 432x288 with 1 Axes>"
            ]
          },
          "metadata": {
            "tags": []
          }
        }
      ]
    },
    {
      "cell_type": "code",
      "metadata": {
        "id": "UuyTvZx5Q-5G",
        "colab_type": "code",
        "colab": {
          "base_uri": "https://localhost:8080/",
          "height": 286
        },
        "outputId": "7cd2ee77-8eed-43f4-b926-a58b698cd0e0"
      },
      "source": [
        "plt.scatter(X['Vaz_agua'],y)"
      ],
      "execution_count": 62,
      "outputs": [
        {
          "output_type": "execute_result",
          "data": {
            "text/plain": [
              "<matplotlib.collections.PathCollection at 0x7fe8fb9f0588>"
            ]
          },
          "metadata": {
            "tags": []
          },
          "execution_count": 62
        },
        {
          "output_type": "display_data",
          "data": {
            "image/png": "[encoded data removed]",
            "text/plain": [
              "<Figure size 432x288 with 1 Axes>"
            ]
          },
          "metadata": {
            "tags": []
          }
        }
      ]
    },
    {
      "cell_type": "code",
      "metadata": {
        "id": "OI9aBEEZUhDR",
        "colab_type": "code",
        "colab": {}
      },
      "source": [
        "#TC_Gases=[]\n",
        "#TC_Gases=np.copy(X['TC_Gases'])\n",
        "#TC_Gases=pd.DataFrame({'TC_Gases':TC_Gases}) \n",
        "TC_Gases=pd.DataFrame({'TC_Gases':X['TC_Gases']})\n",
        "#print(TC_Gases)"
      ],
      "execution_count": 0,
      "outputs": []
    },
    {
      "cell_type": "code",
      "metadata": {
        "id": "8HSOSkzMWUI0",
        "colab_type": "code",
        "colab": {
          "base_uri": "https://localhost:8080/",
          "height": 175
        },
        "outputId": "ab4c5a4c-a094-4a44-b2cd-e715f212b0ff"
      },
      "source": [
        "print(TC_Gases.describe())"
      ],
      "execution_count": 66,
      "outputs": [
        {
          "output_type": "stream",
          "text": [
            "         TC_Gases\n",
            "count   31.000000\n",
            "mean   194.298387\n",
            "std      4.712509\n",
            "min    185.410000\n",
            "25%    192.200000\n",
            "50%    194.630000\n",
            "75%    196.750000\n",
            "max    211.240000\n"
          ],
          "name": "stdout"
        }
      ]
    },
    {
      "cell_type": "code",
      "metadata": {
        "id": "cV-Hbxo9WfI9",
        "colab_type": "code",
        "colab": {}
      },
      "source": [
        "Num=len(TC_Gases)\n",
        "TC_Gases_x=np.copy(TC_Gases)\n",
        "for i in range(Num):\n",
        "  if(TC_Gases_x[i]<192.2):\n",
        "    TC_Gases_x[i]=1 # TC_Gases=1 é baixo\n",
        "  else:\n",
        "    if(TC_Gases_x[i]>196):\n",
        "      TC_Gases_x[i]=3 # TC_Gases=3 é alto\n",
        "    else:\n",
        "      TC_Gases_x[i]=2 # TC_Gases=1 é médio"
      ],
      "execution_count": 0,
      "outputs": []
    },
    {
      "cell_type": "code",
      "metadata": {
        "id": "itc3Jej6XLMz",
        "colab_type": "code",
        "colab": {
          "base_uri": "https://localhost:8080/",
          "height": 386
        },
        "outputId": "219b65e1-429a-4054-89b9-710a749d77b0"
      },
      "source": [
        "y = TC_Gases_x\n",
        "# fit model no training data\n",
        "model = XGBClassifier()\n",
        "model.fit(x, y)\n",
        "# plot feature importance\n",
        "plot_importance(model)\n",
        "pyplot.show()"
      ],
      "execution_count": 69,
      "outputs": [
        {
          "output_type": "stream",
          "text": [
            "/usr/local/lib/python3.6/dist-packages/sklearn/preprocessing/label.py:219: DataConversionWarning: A column-vector y was passed when a 1d array was expected. Please change the shape of y to (n_samples, ), for example using ravel().\n",
            "  y = column_or_1d(y, warn=True)\n",
            "/usr/local/lib/python3.6/dist-packages/sklearn/preprocessing/label.py:252: DataConversionWarning: A column-vector y was passed when a 1d array was expected. Please change the shape of y to (n_samples, ), for example using ravel().\n",
            "  y = column_or_1d(y, warn=True)\n"
          ],
          "name": "stderr"
        },
        {
          "output_type": "display_data",
          "data": {
            "image/png": "[encoded data removed]",
            "text/plain": [
              "<Figure size 432x288 with 1 Axes>"
            ]
          },
          "metadata": {
            "tags": []
          }
        }
      ]
    },
    {
      "cell_type": "code",
      "metadata": {
        "id": "ijNk0EW-YIRk",
        "colab_type": "code",
        "colab": {}
      },
      "source": [
        "Oxigenio=pd.DataFrame({'Oxigenio':X['Oxigenio']})\n",
        "#print(Oxigenio)"
      ],
      "execution_count": 0,
      "outputs": []
    },
    {
      "cell_type": "code",
      "metadata": {
        "id": "3S86Q5fbYmsZ",
        "colab_type": "code",
        "colab": {
          "base_uri": "https://localhost:8080/",
          "height": 175
        },
        "outputId": "74aff617-5491-4243-9082-0d52b00e0525"
      },
      "source": [
        "print(Oxigenio.describe())"
      ],
      "execution_count": 72,
      "outputs": [
        {
          "output_type": "stream",
          "text": [
            "        Oxigenio\n",
            "count  31.000000\n",
            "mean    4.960968\n",
            "std     0.360595\n",
            "min     4.150000\n",
            "25%     4.785000\n",
            "50%     5.000000\n",
            "75%     5.155000\n",
            "max     6.000000\n"
          ],
          "name": "stdout"
        }
      ]
    },
    {
      "cell_type": "code",
      "metadata": {
        "id": "PdEygjK6YwuK",
        "colab_type": "code",
        "colab": {}
      },
      "source": [
        "Num=len(Oxigenio)\n",
        "Oxigenio_x=np.copy(Oxigenio)\n",
        "for i in range(Num):\n",
        "  if(Oxigenio_x[i]<4.785):\n",
        "    Oxigenio_x[i]=1 # Oxigenio=1 é baixo\n",
        "  else:\n",
        "    if(Oxigenio_x[i]>5.155):\n",
        "      Oxigenio_x[i]=3 # Oxigenio=3 é alto\n",
        "    else:\n",
        "      Oxigenio_x[i]=2 # Oxigenio=1 é médio"
      ],
      "execution_count": 0,
      "outputs": []
    },
    {
      "cell_type": "code",
      "metadata": {
        "id": "4jGZ0TX0ZUzx",
        "colab_type": "code",
        "colab": {
          "base_uri": "https://localhost:8080/",
          "height": 386
        },
        "outputId": "73ff226a-d673-42df-ee0d-c8affb04b1dc"
      },
      "source": [
        "y = Oxigenio_x\n",
        "# fit model no training data\n",
        "model = XGBClassifier()\n",
        "model.fit(x, y)\n",
        "# plot feature importance\n",
        "plot_importance(model)\n",
        "pyplot.show()"
      ],
      "execution_count": 74,
      "outputs": [
        {
          "output_type": "stream",
          "text": [
            "/usr/local/lib/python3.6/dist-packages/sklearn/preprocessing/label.py:219: DataConversionWarning: A column-vector y was passed when a 1d array was expected. Please change the shape of y to (n_samples, ), for example using ravel().\n",
            "  y = column_or_1d(y, warn=True)\n",
            "/usr/local/lib/python3.6/dist-packages/sklearn/preprocessing/label.py:252: DataConversionWarning: A column-vector y was passed when a 1d array was expected. Please change the shape of y to (n_samples, ), for example using ravel().\n",
            "  y = column_or_1d(y, warn=True)\n"
          ],
          "name": "stderr"
        },
        {
          "output_type": "display_data",
          "data": {
            "image/png": "[encoded data removed]",
            "text/plain": [
              "<Figure size 432x288 with 1 Axes>"
            ]
          },
          "metadata": {
            "tags": []
          }
        }
      ]
    }
  ]
}